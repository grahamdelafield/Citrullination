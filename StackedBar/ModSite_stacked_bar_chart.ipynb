{
 "metadata": {
  "language_info": {
   "codemirror_mode": {
    "name": "ipython",
    "version": 3
   },
   "file_extension": ".py",
   "mimetype": "text/x-python",
   "name": "python",
   "nbconvert_exporter": "python",
   "pygments_lexer": "ipython3",
   "version": "3.8.1"
  },
  "orig_nbformat": 2,
  "kernelspec": {
   "name": "python3",
   "display_name": "Python 3.8.1 64-bit"
  },
  "interpreter": {
   "hash": "2dc8ddb28d496379d707e9e93ed511d713ad5e3a7eecf718e662549bc379cb9d"
  }
 },
 "nbformat": 4,
 "nbformat_minor": 2,
 "cells": [
  {
   "cell_type": "code",
   "execution_count": 2,
   "metadata": {},
   "outputs": [],
   "source": [
    "import numpy as np\n",
    "import pandas as pd\n",
    "import altair as alt\n",
    "from matplotlib import cm, colors"
   ]
  },
  {
   "cell_type": "code",
   "execution_count": 3,
   "metadata": {},
   "outputs": [],
   "source": [
    "# read in file and get sheet names\n",
    "file = '../Tissue-Specific Cit IDs.xlsx'\n",
    "xl = pd.ExcelFile(file)\n",
    "sheets = xl.sheet_names\n",
    "sheets = sheets[1:] # 'Summary page not needed'\n",
    "brain = sheets[:5]\n",
    "organs = sheets[5:]\n",
    "\n",
    "\n",
    "# create master dataframe of all proteins in all tissue\n",
    "proteins = pd.DataFrame()\n",
    "for sheet in sheets:\n",
    "    df = pd.read_excel(file, sheet_name=sheet, usecols=range(1, 2)).dropna()\n",
    "    df.columns = [sheet]\n",
    "    if proteins.empty:\n",
    "        proteins = df\n",
    "    else:\n",
    "        proteins = proteins.join(df, how='outer')\n",
    "\n",
    "brain = proteins[brain]\n",
    "organs = proteins[organs]    "
   ]
  },
  {
   "cell_type": "code",
   "execution_count": 4,
   "metadata": {},
   "outputs": [],
   "source": [
    "# create new dataframe with count of shared proteins\n",
    "# in brain sections\n",
    "brain_share = pd.DataFrame()\n",
    "for source in brain:\n",
    "    found = brain[source]\n",
    "    found_df = pd.DataFrame(found)\n",
    "    for target in brain:\n",
    "        portion = {}\n",
    "        if source == target:\n",
    "            other = pd.melt(brain[[c for c in brain if c != source]])\n",
    "            other = other.dropna()\n",
    "            sub = found_df[~found_df[source].isin(other.value)].dropna()\n",
    "        else:\n",
    "            sub = brain[brain[target].isin(found)][target]\n",
    "            sub = sub.dropna()\n",
    "\n",
    "        portion['source_tissue'] = source\n",
    "        portion['Compared Tissue'] = 'Overlaps ' + target\n",
    "        portion['overlapping'] = len(sub)\n",
    "        portion['value_norm'] = len(sub) / len(found)\n",
    "        if brain_share.empty:\n",
    "            brain_share = pd.DataFrame(portion,\n",
    "                    index=range(1))\n",
    "        else:\n",
    "            brain_share = pd.concat([brain_share,\n",
    "                    pd.DataFrame(portion, index=range(1))])\n"
   ]
  },
  {
   "cell_type": "code",
   "execution_count": 5,
   "metadata": {},
   "outputs": [
    {
     "output_type": "execute_result",
     "data": {
      "text/html": "\n<div id=\"altair-viz-3265f5437c934cc0ba25175f4729c388\"></div>\n<script type=\"text/javascript\">\n  (function(spec, embedOpt){\n    let outputDiv = document.currentScript.previousElementSibling;\n    if (outputDiv.id !== \"altair-viz-3265f5437c934cc0ba25175f4729c388\") {\n      outputDiv = document.getElementById(\"altair-viz-3265f5437c934cc0ba25175f4729c388\");\n    }\n    const paths = {\n      \"vega\": \"https://cdn.jsdelivr.net/npm//vega@5?noext\",\n      \"vega-lib\": \"https://cdn.jsdelivr.net/npm//vega-lib?noext\",\n      \"vega-lite\": \"https://cdn.jsdelivr.net/npm//vega-lite@4.8.1?noext\",\n      \"vega-embed\": \"https://cdn.jsdelivr.net/npm//vega-embed@6?noext\",\n    };\n\n    function loadScript(lib) {\n      return new Promise(function(resolve, reject) {\n        var s = document.createElement('script');\n        s.src = paths[lib];\n        s.async = true;\n        s.onload = () => resolve(paths[lib]);\n        s.onerror = () => reject(`Error loading script: ${paths[lib]}`);\n        document.getElementsByTagName(\"head\")[0].appendChild(s);\n      });\n    }\n\n    function showError(err) {\n      outputDiv.innerHTML = `<div class=\"error\" style=\"color:red;\">${err}</div>`;\n      throw err;\n    }\n\n    function displayChart(vegaEmbed) {\n      vegaEmbed(outputDiv, spec, embedOpt)\n        .catch(err => showError(`Javascript Error: ${err.message}<br>This usually means there's a typo in your chart specification. See the javascript console for the full traceback.`));\n    }\n\n    if(typeof define === \"function\" && define.amd) {\n      requirejs.config({paths});\n      require([\"vega-embed\"], displayChart, err => showError(`Error loading script: ${err.message}`));\n    } else if (typeof vegaEmbed === \"function\") {\n      displayChart(vegaEmbed);\n    } else {\n      loadScript(\"vega\")\n        .then(() => loadScript(\"vega-lite\"))\n        .then(() => loadScript(\"vega-embed\"))\n        .catch(showError)\n        .then(() => displayChart(vegaEmbed));\n    }\n  })({\"config\": {\"view\": {\"continuousWidth\": 400, \"continuousHeight\": 300}, \"axis\": {\"labelFontSize\": 20}, \"title\": {\"anchor\": \"middle\", \"fontSize\": 20}}, \"layer\": [{\"mark\": \"bar\", \"encoding\": {\"color\": {\"type\": \"ordinal\", \"field\": \"Compared Tissue\", \"scale\": {\"domain\": [\"Overlaps Bcortex\", \"Overlaps Cerebellum\", \"Overlaps Hypothalamus\", \"Overlaps Medulla\", \"Overlaps Scortex\"], \"range\": [\"#3b4cc0\", \"#8db0fe\", \"#dddddd\", \"#f49a7b\", \"#b40426\"]}}, \"order\": {\"type\": \"nominal\", \"field\": \"Compared Tissue\", \"sort\": \"descending\"}, \"x\": {\"type\": \"quantitative\", \"field\": \"overlapping\", \"stack\": \"zero\"}, \"y\": {\"type\": \"ordinal\", \"field\": \"source_tissue\"}}, \"height\": 150, \"title\": \"Shared Modification Sites Between Brain Regions\", \"width\": 1000}, {\"mark\": {\"type\": \"text\", \"align\": \"right\", \"color\": \"black\", \"dx\": -10, \"dy\": 0, \"size\": 17}, \"encoding\": {\"detail\": {\"type\": \"ordinal\", \"field\": \"Compared Tissue\"}, \"order\": {\"type\": \"nominal\", \"field\": \"Compared Tissue\", \"sort\": \"descending\"}, \"text\": {\"type\": \"quantitative\", \"field\": \"overlapping\"}, \"x\": {\"type\": \"quantitative\", \"axis\": {\"tickCount\": 10}, \"field\": \"overlapping\", \"stack\": \"zero\", \"title\": \"Number of Overlapping Sites\"}, \"y\": {\"type\": \"ordinal\", \"field\": \"source_tissue\", \"title\": \"\"}}, \"height\": 150, \"width\": 1000}], \"data\": {\"name\": \"data-629784d695a621aa4a5e30179e49116a\"}, \"$schema\": \"https://vega.github.io/schema/vega-lite/v4.8.1.json\", \"datasets\": {\"data-629784d695a621aa4a5e30179e49116a\": [{\"source_tissue\": \"Bcortex\", \"Compared Tissue\": \"Overlaps Bcortex\", \"overlapping\": 23, \"value_norm\": 0.08745247148288973}, {\"source_tissue\": \"Bcortex\", \"Compared Tissue\": \"Overlaps Cerebellum\", \"overlapping\": 180, \"value_norm\": 0.6844106463878327}, {\"source_tissue\": \"Bcortex\", \"Compared Tissue\": \"Overlaps Hypothalamus\", \"overlapping\": 194, \"value_norm\": 0.7376425855513308}, {\"source_tissue\": \"Bcortex\", \"Compared Tissue\": \"Overlaps Medulla\", \"overlapping\": 169, \"value_norm\": 0.6425855513307985}, {\"source_tissue\": \"Bcortex\", \"Compared Tissue\": \"Overlaps Scortex\", \"overlapping\": 207, \"value_norm\": 0.7870722433460076}, {\"source_tissue\": \"Cerebellum\", \"Compared Tissue\": \"Overlaps Bcortex\", \"overlapping\": 180, \"value_norm\": 0.6844106463878327}, {\"source_tissue\": \"Cerebellum\", \"Compared Tissue\": \"Overlaps Cerebellum\", \"overlapping\": 18, \"value_norm\": 0.06844106463878327}, {\"source_tissue\": \"Cerebellum\", \"Compared Tissue\": \"Overlaps Hypothalamus\", \"overlapping\": 180, \"value_norm\": 0.6844106463878327}, {\"source_tissue\": \"Cerebellum\", \"Compared Tissue\": \"Overlaps Medulla\", \"overlapping\": 159, \"value_norm\": 0.6045627376425855}, {\"source_tissue\": \"Cerebellum\", \"Compared Tissue\": \"Overlaps Scortex\", \"overlapping\": 179, \"value_norm\": 0.6806083650190115}, {\"source_tissue\": \"Hypothalamus\", \"Compared Tissue\": \"Overlaps Bcortex\", \"overlapping\": 194, \"value_norm\": 0.7376425855513308}, {\"source_tissue\": \"Hypothalamus\", \"Compared Tissue\": \"Overlaps Cerebellum\", \"overlapping\": 180, \"value_norm\": 0.6844106463878327}, {\"source_tissue\": \"Hypothalamus\", \"Compared Tissue\": \"Overlaps Hypothalamus\", \"overlapping\": 25, \"value_norm\": 0.09505703422053231}, {\"source_tissue\": \"Hypothalamus\", \"Compared Tissue\": \"Overlaps Medulla\", \"overlapping\": 187, \"value_norm\": 0.7110266159695817}, {\"source_tissue\": \"Hypothalamus\", \"Compared Tissue\": \"Overlaps Scortex\", \"overlapping\": 204, \"value_norm\": 0.7756653992395437}, {\"source_tissue\": \"Medulla\", \"Compared Tissue\": \"Overlaps Bcortex\", \"overlapping\": 169, \"value_norm\": 0.6425855513307985}, {\"source_tissue\": \"Medulla\", \"Compared Tissue\": \"Overlaps Cerebellum\", \"overlapping\": 159, \"value_norm\": 0.6045627376425855}, {\"source_tissue\": \"Medulla\", \"Compared Tissue\": \"Overlaps Hypothalamus\", \"overlapping\": 187, \"value_norm\": 0.7110266159695817}, {\"source_tissue\": \"Medulla\", \"Compared Tissue\": \"Overlaps Medulla\", \"overlapping\": 20, \"value_norm\": 0.07604562737642585}, {\"source_tissue\": \"Medulla\", \"Compared Tissue\": \"Overlaps Scortex\", \"overlapping\": 175, \"value_norm\": 0.6653992395437263}, {\"source_tissue\": \"Scortex\", \"Compared Tissue\": \"Overlaps Bcortex\", \"overlapping\": 207, \"value_norm\": 0.7870722433460076}, {\"source_tissue\": \"Scortex\", \"Compared Tissue\": \"Overlaps Cerebellum\", \"overlapping\": 179, \"value_norm\": 0.6806083650190115}, {\"source_tissue\": \"Scortex\", \"Compared Tissue\": \"Overlaps Hypothalamus\", \"overlapping\": 204, \"value_norm\": 0.7756653992395437}, {\"source_tissue\": \"Scortex\", \"Compared Tissue\": \"Overlaps Medulla\", \"overlapping\": 175, \"value_norm\": 0.6653992395437263}, {\"source_tissue\": \"Scortex\", \"Compared Tissue\": \"Overlaps Scortex\", \"overlapping\": 10, \"value_norm\": 0.03802281368821293}]}}, {\"mode\": \"vega-lite\"});\n</script>",
      "text/plain": [
       "alt.LayerChart(...)"
      ]
     },
     "metadata": {},
     "execution_count": 5
    }
   ],
   "source": [
    "# custom colors\n",
    "n = len(brain_share['Compared Tissue'].unique())\n",
    "my_colors = cm.get_cmap('coolwarm', n)\n",
    "my_colors = my_colors(np.linspace(0, 1, n))\n",
    "my_colors = [colors.to_hex(c) for c in my_colors]\n",
    "domain = [c for c in brain_share['Compared Tissue'].unique()]\n",
    "\n",
    "# make stacked bar chart with number of overlaps\n",
    "bars = alt.Chart(brain_share).mark_bar().encode(\n",
    "    x=alt.X('overlapping:Q', stack='zero'),\n",
    "    y=alt.Y('source_tissue:O'),\n",
    "    color=alt.Color('Compared Tissue:O', scale=alt.Scale(domain=domain, range=my_colors)),\n",
    "    order=alt.Order('Compared Tissue', sort='descending')\n",
    ").properties(\n",
    "    title='Shared Modification Sites Between Brain Regions',\n",
    "    width=1000,\n",
    "    height=150\n",
    ")\n",
    "\n",
    "text = alt.Chart(brain_share).mark_text(align='right', dx=-10, dy=0, size=17, color='black').encode(\n",
    "    x=alt.X('overlapping:Q', stack='zero',\n",
    "            axis=alt.Axis(tickCount=10), title='Number of Overlapping Sites'),\n",
    "    y=alt.Y('source_tissue:O', title='', ),\n",
    "    detail='Compared Tissue:O',\n",
    "    text=alt.Text('overlapping:Q'),\n",
    "    order=alt.Order('Compared Tissue', sort='descending')\n",
    ").properties(\n",
    "    width=1000,\n",
    "    height=150\n",
    ")\n",
    "\n",
    "(bars + text).configure_axis(\n",
    "    labelFontSize=20\n",
    ").configure_title(\n",
    "    fontSize=20,\n",
    "    anchor='middle'\n",
    ").save('ModSite_BrainRegions.svg')"
   ]
  },
  {
   "cell_type": "code",
   "execution_count": 6,
   "metadata": {},
   "outputs": [],
   "source": [
    "# create new dataframe with count of shared proteins\n",
    "# in organ tissue\n",
    "organ_share = pd.DataFrame()\n",
    "for source in organs:\n",
    "    found = organs[source]\n",
    "    found_df = pd.DataFrame(found)\n",
    "    for target in organs:\n",
    "        portion = {}\n",
    "        if source == target:\n",
    "            other = pd.melt(organs[[c for c in organs if c != source]])\n",
    "            other = other.dropna()\n",
    "            sub = found_df[~found_df[source].isin(other.value)].dropna()\n",
    "        else:\n",
    "            sub = organs[organs[target].isin(found)][target]\n",
    "            sub = sub.dropna()\n",
    "        portion['source_tissue'] = source\n",
    "        portion['Compared Tissue'] = 'Overlaps ' + target\n",
    "        portion['overlapping'] = len(sub)\n",
    "        portion['value_norm'] = len(sub) / len(found)\n",
    "        if organ_share.empty:\n",
    "            organ_share = pd.DataFrame(portion,\n",
    "                    index=range(1))\n",
    "        else:\n",
    "            organ_share = pd.concat([organ_share,\n",
    "                    pd.DataFrame(portion, index=range(1))])\n"
   ]
  },
  {
   "cell_type": "code",
   "execution_count": 7,
   "metadata": {},
   "outputs": [
    {
     "output_type": "execute_result",
     "data": {
      "text/html": "\n<div id=\"altair-viz-7a1949e2c7e64be490497d23b69f3102\"></div>\n<script type=\"text/javascript\">\n  (function(spec, embedOpt){\n    let outputDiv = document.currentScript.previousElementSibling;\n    if (outputDiv.id !== \"altair-viz-7a1949e2c7e64be490497d23b69f3102\") {\n      outputDiv = document.getElementById(\"altair-viz-7a1949e2c7e64be490497d23b69f3102\");\n    }\n    const paths = {\n      \"vega\": \"https://cdn.jsdelivr.net/npm//vega@5?noext\",\n      \"vega-lib\": \"https://cdn.jsdelivr.net/npm//vega-lib?noext\",\n      \"vega-lite\": \"https://cdn.jsdelivr.net/npm//vega-lite@4.8.1?noext\",\n      \"vega-embed\": \"https://cdn.jsdelivr.net/npm//vega-embed@6?noext\",\n    };\n\n    function loadScript(lib) {\n      return new Promise(function(resolve, reject) {\n        var s = document.createElement('script');\n        s.src = paths[lib];\n        s.async = true;\n        s.onload = () => resolve(paths[lib]);\n        s.onerror = () => reject(`Error loading script: ${paths[lib]}`);\n        document.getElementsByTagName(\"head\")[0].appendChild(s);\n      });\n    }\n\n    function showError(err) {\n      outputDiv.innerHTML = `<div class=\"error\" style=\"color:red;\">${err}</div>`;\n      throw err;\n    }\n\n    function displayChart(vegaEmbed) {\n      vegaEmbed(outputDiv, spec, embedOpt)\n        .catch(err => showError(`Javascript Error: ${err.message}<br>This usually means there's a typo in your chart specification. See the javascript console for the full traceback.`));\n    }\n\n    if(typeof define === \"function\" && define.amd) {\n      requirejs.config({paths});\n      require([\"vega-embed\"], displayChart, err => showError(`Error loading script: ${err.message}`));\n    } else if (typeof vegaEmbed === \"function\") {\n      displayChart(vegaEmbed);\n    } else {\n      loadScript(\"vega\")\n        .then(() => loadScript(\"vega-lite\"))\n        .then(() => loadScript(\"vega-embed\"))\n        .catch(showError)\n        .then(() => displayChart(vegaEmbed));\n    }\n  })({\"config\": {\"view\": {\"continuousWidth\": 400, \"continuousHeight\": 300}, \"axis\": {\"labelFontSize\": 20}, \"title\": {\"anchor\": \"middle\", \"fontSize\": 20}}, \"layer\": [{\"mark\": \"bar\", \"encoding\": {\"color\": {\"type\": \"ordinal\", \"field\": \"Compared Tissue\", \"scale\": {\"domain\": [\"Overlaps Liver\", \"Overlaps Heart\", \"Overlaps Lung\", \"Overlaps Kidney\", \"Overlaps Pancreas\", \"Overlaps Spleen\"], \"range\": [\"#3b4cc0\", \"#7b9ff9\", \"#c0d4f5\", \"#f2cbb7\", \"#ee8468\", \"#b40426\"]}}, \"order\": {\"type\": \"nominal\", \"field\": \"Compared Tissue\", \"sort\": \"descending\"}, \"x\": {\"type\": \"quantitative\", \"field\": \"overlapping\", \"stack\": \"zero\"}, \"y\": {\"type\": \"ordinal\", \"field\": \"source_tissue\"}}, \"height\": 150, \"title\": \"Shared Modification Sites Between Organ Tissue\", \"width\": 1000}, {\"mark\": {\"type\": \"text\", \"align\": \"right\", \"color\": \"black\", \"dx\": -10, \"dy\": 0, \"size\": 17}, \"encoding\": {\"detail\": {\"type\": \"ordinal\", \"field\": \"Compared Tissue\"}, \"order\": {\"type\": \"nominal\", \"field\": \"Compared Tissue\", \"sort\": \"descending\"}, \"text\": {\"type\": \"quantitative\", \"field\": \"overlapping\"}, \"x\": {\"type\": \"quantitative\", \"axis\": {\"tickCount\": 10}, \"field\": \"overlapping\", \"stack\": \"zero\", \"title\": \"Number of Overlapping Sites\"}, \"y\": {\"type\": \"ordinal\", \"field\": \"source_tissue\", \"title\": \"\"}}, \"height\": 150, \"width\": 1000}], \"data\": {\"name\": \"data-aba94fb495836f7599856e08ec9151bc\"}, \"$schema\": \"https://vega.github.io/schema/vega-lite/v4.8.1.json\", \"datasets\": {\"data-aba94fb495836f7599856e08ec9151bc\": [{\"source_tissue\": \"Liver\", \"Compared Tissue\": \"Overlaps Liver\", \"overlapping\": 38, \"value_norm\": 0.1444866920152091}, {\"source_tissue\": \"Liver\", \"Compared Tissue\": \"Overlaps Heart\", \"overlapping\": 27, \"value_norm\": 0.10266159695817491}, {\"source_tissue\": \"Liver\", \"Compared Tissue\": \"Overlaps Lung\", \"overlapping\": 26, \"value_norm\": 0.09885931558935361}, {\"source_tissue\": \"Liver\", \"Compared Tissue\": \"Overlaps Kidney\", \"overlapping\": 46, \"value_norm\": 0.17490494296577946}, {\"source_tissue\": \"Liver\", \"Compared Tissue\": \"Overlaps Pancreas\", \"overlapping\": 26, \"value_norm\": 0.09885931558935361}, {\"source_tissue\": \"Liver\", \"Compared Tissue\": \"Overlaps Spleen\", \"overlapping\": 20, \"value_norm\": 0.07604562737642585}, {\"source_tissue\": \"Heart\", \"Compared Tissue\": \"Overlaps Liver\", \"overlapping\": 27, \"value_norm\": 0.10266159695817491}, {\"source_tissue\": \"Heart\", \"Compared Tissue\": \"Overlaps Heart\", \"overlapping\": 76, \"value_norm\": 0.2889733840304182}, {\"source_tissue\": \"Heart\", \"Compared Tissue\": \"Overlaps Lung\", \"overlapping\": 33, \"value_norm\": 0.12547528517110265}, {\"source_tissue\": \"Heart\", \"Compared Tissue\": \"Overlaps Kidney\", \"overlapping\": 47, \"value_norm\": 0.17870722433460076}, {\"source_tissue\": \"Heart\", \"Compared Tissue\": \"Overlaps Pancreas\", \"overlapping\": 19, \"value_norm\": 0.07224334600760456}, {\"source_tissue\": \"Heart\", \"Compared Tissue\": \"Overlaps Spleen\", \"overlapping\": 24, \"value_norm\": 0.09125475285171103}, {\"source_tissue\": \"Lung\", \"Compared Tissue\": \"Overlaps Liver\", \"overlapping\": 26, \"value_norm\": 0.09885931558935361}, {\"source_tissue\": \"Lung\", \"Compared Tissue\": \"Overlaps Heart\", \"overlapping\": 33, \"value_norm\": 0.12547528517110265}, {\"source_tissue\": \"Lung\", \"Compared Tissue\": \"Overlaps Lung\", \"overlapping\": 35, \"value_norm\": 0.13307984790874525}, {\"source_tissue\": \"Lung\", \"Compared Tissue\": \"Overlaps Kidney\", \"overlapping\": 26, \"value_norm\": 0.09885931558935361}, {\"source_tissue\": \"Lung\", \"Compared Tissue\": \"Overlaps Pancreas\", \"overlapping\": 22, \"value_norm\": 0.08365019011406843}, {\"source_tissue\": \"Lung\", \"Compared Tissue\": \"Overlaps Spleen\", \"overlapping\": 37, \"value_norm\": 0.14068441064638784}, {\"source_tissue\": \"Kidney\", \"Compared Tissue\": \"Overlaps Liver\", \"overlapping\": 46, \"value_norm\": 0.17490494296577946}, {\"source_tissue\": \"Kidney\", \"Compared Tissue\": \"Overlaps Heart\", \"overlapping\": 47, \"value_norm\": 0.17870722433460076}, {\"source_tissue\": \"Kidney\", \"Compared Tissue\": \"Overlaps Lung\", \"overlapping\": 26, \"value_norm\": 0.09885931558935361}, {\"source_tissue\": \"Kidney\", \"Compared Tissue\": \"Overlaps Kidney\", \"overlapping\": 21, \"value_norm\": 0.07984790874524715}, {\"source_tissue\": \"Kidney\", \"Compared Tissue\": \"Overlaps Pancreas\", \"overlapping\": 23, \"value_norm\": 0.08745247148288973}, {\"source_tissue\": \"Kidney\", \"Compared Tissue\": \"Overlaps Spleen\", \"overlapping\": 24, \"value_norm\": 0.09125475285171103}, {\"source_tissue\": \"Pancreas\", \"Compared Tissue\": \"Overlaps Liver\", \"overlapping\": 26, \"value_norm\": 0.09885931558935361}, {\"source_tissue\": \"Pancreas\", \"Compared Tissue\": \"Overlaps Heart\", \"overlapping\": 19, \"value_norm\": 0.07224334600760456}, {\"source_tissue\": \"Pancreas\", \"Compared Tissue\": \"Overlaps Lung\", \"overlapping\": 22, \"value_norm\": 0.08365019011406843}, {\"source_tissue\": \"Pancreas\", \"Compared Tissue\": \"Overlaps Kidney\", \"overlapping\": 23, \"value_norm\": 0.08745247148288973}, {\"source_tissue\": \"Pancreas\", \"Compared Tissue\": \"Overlaps Pancreas\", \"overlapping\": 112, \"value_norm\": 0.42585551330798477}, {\"source_tissue\": \"Pancreas\", \"Compared Tissue\": \"Overlaps Spleen\", \"overlapping\": 35, \"value_norm\": 0.13307984790874525}, {\"source_tissue\": \"Spleen\", \"Compared Tissue\": \"Overlaps Liver\", \"overlapping\": 20, \"value_norm\": 0.07604562737642585}, {\"source_tissue\": \"Spleen\", \"Compared Tissue\": \"Overlaps Heart\", \"overlapping\": 24, \"value_norm\": 0.09125475285171103}, {\"source_tissue\": \"Spleen\", \"Compared Tissue\": \"Overlaps Lung\", \"overlapping\": 37, \"value_norm\": 0.14068441064638784}, {\"source_tissue\": \"Spleen\", \"Compared Tissue\": \"Overlaps Kidney\", \"overlapping\": 24, \"value_norm\": 0.09125475285171103}, {\"source_tissue\": \"Spleen\", \"Compared Tissue\": \"Overlaps Pancreas\", \"overlapping\": 35, \"value_norm\": 0.13307984790874525}, {\"source_tissue\": \"Spleen\", \"Compared Tissue\": \"Overlaps Spleen\", \"overlapping\": 14, \"value_norm\": 0.053231939163498096}]}}, {\"mode\": \"vega-lite\"});\n</script>",
      "text/plain": [
       "alt.LayerChart(...)"
      ]
     },
     "metadata": {},
     "execution_count": 7
    }
   ],
   "source": [
    "# cutom colors \n",
    "n = len(organ_share['Compared Tissue'].unique())\n",
    "my_colors = cm.get_cmap('coolwarm', n)\n",
    "my_colors = my_colors(np.linspace(0, 1, n))\n",
    "my_colors = [colors.to_hex(c) for c in my_colors]\n",
    "domain = [c for c in organ_share['Compared Tissue'].unique()]\n",
    "\n",
    "# make stacked bar chart with number of overlaps\n",
    "# in organ tissue\n",
    "bars = alt.Chart(organ_share).mark_bar().encode(\n",
    "    x=alt.X('overlapping:Q', stack='zero'),\n",
    "    y=alt.Y('source_tissue:O'),\n",
    "    color=alt.Color('Compared Tissue:O', scale = alt.Scale(domain=domain, range=my_colors)),\n",
    "    order=alt.Order('Compared Tissue', sort='descending')\n",
    ").properties(\n",
    "    title='Shared Modification Sites Between Organ Tissue',\n",
    "    width=1000,\n",
    "    height=150\n",
    ")\n",
    "\n",
    "text = alt.Chart(organ_share).mark_text(align='right', dx=-10, dy=0, size=17, color='black').encode(\n",
    "    x=alt.X('overlapping:Q', stack='zero',\n",
    "             axis=alt.Axis(tickCount=10), title='Number of Overlapping Sites'),\n",
    "    y=alt.Y('source_tissue:O', title='', ),\n",
    "    detail='Compared Tissue:O',\n",
    "    text=alt.Text('overlapping:Q'),\n",
    "    order=alt.Order('Compared Tissue', sort='descending')\n",
    ").properties(\n",
    "    width=1000,\n",
    "    height=150\n",
    ")\n",
    "\n",
    "(bars + text).configure_axis(\n",
    "    labelFontSize=20\n",
    ").configure_title(\n",
    "    fontSize=20,\n",
    "    anchor='middle'\n",
    ").save('ModSite_Organs.svg')"
   ]
  },
  {
   "cell_type": "code",
   "execution_count": null,
   "metadata": {},
   "outputs": [],
   "source": []
  }
 ]
}