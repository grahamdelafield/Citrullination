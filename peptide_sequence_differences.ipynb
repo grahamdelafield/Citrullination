{
 "cells": [
  {
   "cell_type": "code",
   "execution_count": 61,
   "metadata": {},
   "outputs": [],
   "source": [
    "import pandas as pd\n",
    "from pyteomics.fasta import FASTA\n",
    "from pyteomics import parser\n",
    "import re"
   ]
  },
  {
   "cell_type": "code",
   "execution_count": 62,
   "metadata": {},
   "outputs": [],
   "source": [
    "# prepare modification sites\n",
    "site_file = r\"C:\\Users\\Graham Delafield\\code\\python\\citrullination\\Tissue-specific Cit IDs-redundant.xlsx\"\n",
    "df = pd.read_excel(site_file, usecols=range(2))\n",
    "\n",
    "sites = dict()\n",
    "\n",
    "for i, row in df.iterrows():\n",
    "    protein = row.Protein\n",
    "    sites[protein] = sites.get(protein, [])\n",
    "    sites[protein].append(row.Position)"
   ]
  },
  {
   "cell_type": "code",
   "execution_count": 69,
   "metadata": {},
   "outputs": [],
   "source": [
    "proteins = r'.\\CitrullinatedProteins.fasta'\n",
    "idents = []\n",
    "tryptic = []\n",
    "gluc = []\n",
    "\n",
    "for (header, sequence) in FASTA(proteins):\n",
    "    accession = re.search(r'(\\w*\\|)(\\w*)(\\|[\\w\\s]*)', header).group(2)\n",
    "    \n",
    "    protein_sites = sites[accession]\n",
    "    for site in protein_sites:\n",
    "        begin = sequence[:site - 1]\n",
    "        res = sequence[site-1].lower()\n",
    "        end = sequence[site:]\n",
    "        sequence = begin + res + end\n",
    "    \n",
    "    idents.append(accession)\n",
    "\n",
    "    res = [tryptic, gluc]\n",
    "    for i, enzyme in enumerate(['trypsin', r'[DE]']):\n",
    "        peptides = parser.cleave(sequence, enzyme, missed_cleavages=1)\n",
    "\n",
    "        good_matches = []\n",
    "        for pep in peptides:\n",
    "            if re.search(r'[a-z]', pep):\n",
    "                if len(pep) > 4:\n",
    "                    good_matches.append(pep)\n",
    "        res[i].append(good_matches)\n"
   ]
  },
  {
   "cell_type": "code",
   "execution_count": 71,
   "metadata": {},
   "outputs": [],
   "source": [
    "with pd.ExcelWriter(r'.\\AlternativeDigestion.xlsx') as writer:\n",
    "\n",
    "    pd.DataFrame({\n",
    "        'protein': idents,\n",
    "        'tryptic': tryptic,\n",
    "        'glu-c': gluc\n",
    "    }).to_excel(writer)"
   ]
  },
  {
   "cell_type": "code",
   "execution_count": null,
   "metadata": {},
   "outputs": [],
   "source": []
  }
 ],
 "metadata": {
  "interpreter": {
   "hash": "f655b030fa853ce2bb9551f43c34a9a54587a9a7249d7abdf402a518c0626859"
  },
  "kernelspec": {
   "display_name": "Python 3.8.5 64-bit",
   "language": "python",
   "name": "python3"
  },
  "language_info": {
   "codemirror_mode": {
    "name": "ipython",
    "version": 3
   },
   "file_extension": ".py",
   "mimetype": "text/x-python",
   "name": "python",
   "nbconvert_exporter": "python",
   "pygments_lexer": "ipython3",
   "version": "3.8.5"
  },
  "orig_nbformat": 4
 },
 "nbformat": 4,
 "nbformat_minor": 2
}
