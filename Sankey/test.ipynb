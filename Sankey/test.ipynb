{
 "metadata": {
  "language_info": {
   "codemirror_mode": {
    "name": "ipython",
    "version": 3
   },
   "file_extension": ".py",
   "mimetype": "text/x-python",
   "name": "python",
   "nbconvert_exporter": "python",
   "pygments_lexer": "ipython3",
   "version": "3.8.1"
  },
  "orig_nbformat": 4,
  "kernelspec": {
   "name": "python3",
   "display_name": "Python 3.8.1 64-bit"
  },
  "interpreter": {
   "hash": "2dc8ddb28d496379d707e9e93ed511d713ad5e3a7eecf718e662549bc379cb9d"
  }
 },
 "nbformat": 4,
 "nbformat_minor": 2,
 "cells": [
  {
   "cell_type": "code",
   "execution_count": 1,
   "metadata": {},
   "outputs": [],
   "source": [
    "import pandas as pd "
   ]
  },
  {
   "cell_type": "code",
   "execution_count": 15,
   "metadata": {},
   "outputs": [
    {
     "output_type": "execute_result",
     "data": {
      "text/plain": [
       "    All IDs Bcortex Cerebellum Hypothalamus Medulla Scortex   Liver   Heart  \\\n",
       "0    P62259  P62259     P62259       P62259  P62259  P62259  Q9CQ62  Q9CQ62   \n",
       "1    P68254  P68254     P68254       P68254  P68254  P68254  Q921H8  Q8BWT1   \n",
       "2    Q9CQ62  P63260     Q60597       P61922  Q9CQ62  P61922  Q8BWT1  Q99KI0   \n",
       "3    Q9CQX8  P48962     P61922       P20029  P63260  P63260  P63323  P62737   \n",
       "4    Q60597  P45376     P20029       P63260  P48962  P48962  P62889  P63260   \n",
       "..      ...     ...        ...          ...     ...     ...     ...     ...   \n",
       "427  P50518     NaN        NaN          NaN     NaN     NaN     NaN     NaN   \n",
       "428  Q9WTT4     NaN        NaN          NaN     NaN     NaN     NaN     NaN   \n",
       "429  O88342     NaN        NaN          NaN     NaN     NaN     NaN     NaN   \n",
       "430  Q8BJH1     NaN        NaN          NaN     NaN     NaN     NaN     NaN   \n",
       "431  Q8K0C5     NaN        NaN          NaN     NaN     NaN     NaN     NaN   \n",
       "\n",
       "       Lung  Kidney Pancreas  Spleen  \n",
       "0    P62259  Q921H8   P62281  P63260  \n",
       "1    P63260  P63260   P63323  Q7TPR4  \n",
       "2    O54931  Q9WUR9   P62852  P58252  \n",
       "3    O35945  Q03265   Q6ZWY3  Q923D2  \n",
       "4    Q7TPR4  P56480   P99027  P05064  \n",
       "..      ...     ...      ...     ...  \n",
       "427     NaN     NaN      NaN     NaN  \n",
       "428     NaN     NaN      NaN     NaN  \n",
       "429     NaN     NaN      NaN     NaN  \n",
       "430     NaN     NaN      NaN     NaN  \n",
       "431     NaN     NaN      NaN     NaN  \n",
       "\n",
       "[432 rows x 12 columns]"
      ],
      "text/html": "<div>\n<style scoped>\n    .dataframe tbody tr th:only-of-type {\n        vertical-align: middle;\n    }\n\n    .dataframe tbody tr th {\n        vertical-align: top;\n    }\n\n    .dataframe thead th {\n        text-align: right;\n    }\n</style>\n<table border=\"1\" class=\"dataframe\">\n  <thead>\n    <tr style=\"text-align: right;\">\n      <th></th>\n      <th>All IDs</th>\n      <th>Bcortex</th>\n      <th>Cerebellum</th>\n      <th>Hypothalamus</th>\n      <th>Medulla</th>\n      <th>Scortex</th>\n      <th>Liver</th>\n      <th>Heart</th>\n      <th>Lung</th>\n      <th>Kidney</th>\n      <th>Pancreas</th>\n      <th>Spleen</th>\n    </tr>\n  </thead>\n  <tbody>\n    <tr>\n      <th>0</th>\n      <td>P62259</td>\n      <td>P62259</td>\n      <td>P62259</td>\n      <td>P62259</td>\n      <td>P62259</td>\n      <td>P62259</td>\n      <td>Q9CQ62</td>\n      <td>Q9CQ62</td>\n      <td>P62259</td>\n      <td>Q921H8</td>\n      <td>P62281</td>\n      <td>P63260</td>\n    </tr>\n    <tr>\n      <th>1</th>\n      <td>P68254</td>\n      <td>P68254</td>\n      <td>P68254</td>\n      <td>P68254</td>\n      <td>P68254</td>\n      <td>P68254</td>\n      <td>Q921H8</td>\n      <td>Q8BWT1</td>\n      <td>P63260</td>\n      <td>P63260</td>\n      <td>P63323</td>\n      <td>Q7TPR4</td>\n    </tr>\n    <tr>\n      <th>2</th>\n      <td>Q9CQ62</td>\n      <td>P63260</td>\n      <td>Q60597</td>\n      <td>P61922</td>\n      <td>Q9CQ62</td>\n      <td>P61922</td>\n      <td>Q8BWT1</td>\n      <td>Q99KI0</td>\n      <td>O54931</td>\n      <td>Q9WUR9</td>\n      <td>P62852</td>\n      <td>P58252</td>\n    </tr>\n    <tr>\n      <th>3</th>\n      <td>Q9CQX8</td>\n      <td>P48962</td>\n      <td>P61922</td>\n      <td>P20029</td>\n      <td>P63260</td>\n      <td>P63260</td>\n      <td>P63323</td>\n      <td>P62737</td>\n      <td>O35945</td>\n      <td>Q03265</td>\n      <td>Q6ZWY3</td>\n      <td>Q923D2</td>\n    </tr>\n    <tr>\n      <th>4</th>\n      <td>Q60597</td>\n      <td>P45376</td>\n      <td>P20029</td>\n      <td>P63260</td>\n      <td>P48962</td>\n      <td>P48962</td>\n      <td>P62889</td>\n      <td>P63260</td>\n      <td>Q7TPR4</td>\n      <td>P56480</td>\n      <td>P99027</td>\n      <td>P05064</td>\n    </tr>\n    <tr>\n      <th>...</th>\n      <td>...</td>\n      <td>...</td>\n      <td>...</td>\n      <td>...</td>\n      <td>...</td>\n      <td>...</td>\n      <td>...</td>\n      <td>...</td>\n      <td>...</td>\n      <td>...</td>\n      <td>...</td>\n      <td>...</td>\n    </tr>\n    <tr>\n      <th>427</th>\n      <td>P50518</td>\n      <td>NaN</td>\n      <td>NaN</td>\n      <td>NaN</td>\n      <td>NaN</td>\n      <td>NaN</td>\n      <td>NaN</td>\n      <td>NaN</td>\n      <td>NaN</td>\n      <td>NaN</td>\n      <td>NaN</td>\n      <td>NaN</td>\n    </tr>\n    <tr>\n      <th>428</th>\n      <td>Q9WTT4</td>\n      <td>NaN</td>\n      <td>NaN</td>\n      <td>NaN</td>\n      <td>NaN</td>\n      <td>NaN</td>\n      <td>NaN</td>\n      <td>NaN</td>\n      <td>NaN</td>\n      <td>NaN</td>\n      <td>NaN</td>\n      <td>NaN</td>\n    </tr>\n    <tr>\n      <th>429</th>\n      <td>O88342</td>\n      <td>NaN</td>\n      <td>NaN</td>\n      <td>NaN</td>\n      <td>NaN</td>\n      <td>NaN</td>\n      <td>NaN</td>\n      <td>NaN</td>\n      <td>NaN</td>\n      <td>NaN</td>\n      <td>NaN</td>\n      <td>NaN</td>\n    </tr>\n    <tr>\n      <th>430</th>\n      <td>Q8BJH1</td>\n      <td>NaN</td>\n      <td>NaN</td>\n      <td>NaN</td>\n      <td>NaN</td>\n      <td>NaN</td>\n      <td>NaN</td>\n      <td>NaN</td>\n      <td>NaN</td>\n      <td>NaN</td>\n      <td>NaN</td>\n      <td>NaN</td>\n    </tr>\n    <tr>\n      <th>431</th>\n      <td>Q8K0C5</td>\n      <td>NaN</td>\n      <td>NaN</td>\n      <td>NaN</td>\n      <td>NaN</td>\n      <td>NaN</td>\n      <td>NaN</td>\n      <td>NaN</td>\n      <td>NaN</td>\n      <td>NaN</td>\n      <td>NaN</td>\n      <td>NaN</td>\n    </tr>\n  </tbody>\n</table>\n<p>432 rows × 12 columns</p>\n</div>"
     },
     "metadata": {},
     "execution_count": 15
    }
   ],
   "source": [
    "file = '../Tissue-Specific Cit IDs.xlsx'\n",
    "xl = pd.ExcelFile(file)\n",
    "df = pd.DataFrame()\n",
    "for sheet in xl.sheet_names:\n",
    "    sub = pd.read_excel(file, sheet_name=sheet, usecols=[0])\n",
    "    sub.columns=[sheet]\n",
    "    df = pd.concat([df, sub.dropna()], axis=1)\n",
    "df"
   ]
  },
  {
   "cell_type": "code",
   "execution_count": 28,
   "metadata": {},
   "outputs": [
    {
     "output_type": "stream",
     "name": "stdout",
     "text": [
      "174\n158\n178\n151\n169\n81\n91\n69\n79\n113\n62\n"
     ]
    }
   ],
   "source": [
    "prots = []\n",
    "for i in range(1, len(df.columns)):\n",
    "    print(len(df.iloc[:, i].dropna()))\n",
    "    prots.extend(df.iloc[:, i].tolist())"
   ]
  },
  {
   "cell_type": "code",
   "execution_count": 31,
   "metadata": {},
   "outputs": [
    {
     "output_type": "execute_result",
     "data": {
      "text/plain": [
       "433"
      ]
     },
     "metadata": {},
     "execution_count": 31
    }
   ],
   "source": [
    "len(set(prots))"
   ]
  },
  {
   "cell_type": "code",
   "execution_count": null,
   "metadata": {},
   "outputs": [],
   "source": []
  }
 ]
}