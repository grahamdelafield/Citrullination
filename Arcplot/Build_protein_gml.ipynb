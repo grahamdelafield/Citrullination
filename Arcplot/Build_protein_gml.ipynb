{
 "metadata": {
  "language_info": {
   "codemirror_mode": {
    "name": "ipython",
    "version": 3
   },
   "file_extension": ".py",
   "mimetype": "text/x-python",
   "name": "python",
   "nbconvert_exporter": "python",
   "pygments_lexer": "ipython3",
   "version": "3.8.1"
  },
  "orig_nbformat": 2,
  "kernelspec": {
   "name": "python3",
   "display_name": "Python 3.8.1 64-bit"
  },
  "interpreter": {
   "hash": "2dc8ddb28d496379d707e9e93ed511d713ad5e3a7eecf718e662549bc379cb9d"
  }
 },
 "nbformat": 4,
 "nbformat_minor": 2,
 "cells": [
  {
   "cell_type": "code",
   "execution_count": 1,
   "metadata": {},
   "outputs": [],
   "source": [
    "import pandas as pd"
   ]
  },
  {
   "cell_type": "code",
   "execution_count": 2,
   "metadata": {},
   "outputs": [],
   "source": [
    "# read in file and get sheet names\n",
    "file = '../Tissue-Specific Cit IDs.xlsx'\n",
    "xl = pd.ExcelFile(file)\n",
    "sheets = xl.sheet_names\n",
    "sheets = sheets[1:] # 'Summary page not needed'\n",
    "brain = sheets[:5]\n",
    "organs = sheets[5:]\n",
    "\n",
    "# create master dataframe of all proteins in all tissue\n",
    "proteins = pd.DataFrame()\n",
    "for sheet in sheets:\n",
    "    df = pd.read_excel(file, sheet_name=sheet, usecols=range(0, 1)).dropna()\n",
    "    df.columns = [sheet]\n",
    "    if proteins.empty:\n",
    "        proteins = df\n",
    "    else:\n",
    "        proteins = proteins.join(df, how='outer')"
   ]
  },
  {
   "cell_type": "code",
   "execution_count": 3,
   "metadata": {},
   "outputs": [],
   "source": [
    "# create new dataframe with count of shared proteins\n",
    "# in protein sections\n",
    "protein_share = pd.DataFrame()\n",
    "for source in proteins:\n",
    "    found = proteins[source]\n",
    "    found_df = pd.DataFrame(found)\n",
    "    for target in proteins:\n",
    "        portion = {}\n",
    "        if source == target:\n",
    "            other = pd.melt(proteins[[c for c in proteins if c != source]])\n",
    "            other = other.dropna()\n",
    "            sub = found_df[~found_df[source].isin(other.value)].dropna()\n",
    "        else:\n",
    "            sub = proteins[proteins[target].isin(found)][target]\n",
    "            sub = sub.dropna()\n",
    "        portion['source_tissue'] = source\n",
    "        portion['comp_tissue'] = target\n",
    "        portion['overlapping'] = len(sub)\n",
    "        portion['value_norm'] = len(sub) / len(found)\n",
    "        if protein_share.empty:\n",
    "            protein_share = pd.DataFrame(portion,\n",
    "                    index=range(1))\n",
    "        else:\n",
    "            protein_share = pd.concat([protein_share,\n",
    "                    pd.DataFrame(portion, index=range(1))])"
   ]
  },
  {
   "cell_type": "code",
   "execution_count": 4,
   "metadata": {},
   "outputs": [],
   "source": [
    "regions = [r for r in protein_share.source_tissue.unique()]\n",
    "vals = []\n",
    "fin_text = []\n",
    "fin_text.append(f'''Creator \"igraph version 0.6 Wed Jan 30 10:28:57 2013\"\n",
    "Version 1\n",
    "graph\n",
    "[\n",
    "  directed 0''')\n",
    "for r in regions:\n",
    "    vals.append(regions.index(r))\n",
    "    text = f'''\n",
    "  node\n",
    "  [\n",
    "    id {regions.index(r)}\n",
    "    label \"{r}\"\n",
    "    group {regions.index(r)}\n",
    "    fill \"#BEBADA\"\n",
    "    border \"#aba7c4\"\n",
    "  ]'''\n",
    "    fin_text.append(text)\n",
    "t_map = dict(zip(regions, vals))\n",
    "protein_share.loc[:, 'source_tissue'] = protein_share.source_tissue.map(t_map)\n",
    "protein_share.loc[:, 'comp_tissue'] = protein_share.comp_tissue.map(t_map)\n",
    "\n",
    "for r in protein_share.itertuples():\n",
    "  text = f'''\n",
    "  edge\n",
    "  [\n",
    "    source {r.source_tissue}\n",
    "    target {r.comp_tissue}\n",
    "    value {r.overlapping} \n",
    "  ]'''\n",
    "  fin_text.append(text)\n",
    "fin_text.append(']')"
   ]
  },
  {
   "cell_type": "code",
   "execution_count": 5,
   "metadata": {},
   "outputs": [],
   "source": [
    "with open('protein.gml.txt', 'w') as f:\n",
    "    f.write(''.join(fin_text))"
   ]
  },
  {
   "cell_type": "code",
   "execution_count": null,
   "metadata": {},
   "outputs": [],
   "source": []
  }
 ]
}